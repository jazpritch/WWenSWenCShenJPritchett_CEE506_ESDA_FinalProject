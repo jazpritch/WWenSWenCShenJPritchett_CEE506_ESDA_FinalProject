{
 "cells": [
  {
   "cell_type": "markdown",
   "metadata": {},
   "source": [
    "## Data Aggregation"
   ]
  },
  {
   "cell_type": "markdown",
   "metadata": {},
   "source": [
    "### Weekly Statistics"
   ]
  },
  {
   "cell_type": "code",
   "execution_count": 29,
   "metadata": {},
   "outputs": [
    {
     "data": {
      "text/plain": [
       "'/home/jovyan/work/FinalProject/Algal_Data'"
      ]
     },
     "execution_count": 29,
     "metadata": {},
     "output_type": "execute_result"
    }
   ],
   "source": [
    "import os\n",
    "os.getcwd()"
   ]
  },
  {
   "cell_type": "code",
   "execution_count": null,
   "metadata": {},
   "outputs": [],
   "source": [
    "import rasterio\n",
    "import numpy as np\n",
    "from glob import glob\n",
    "import pandas as pd\n",
    "from datetime import datetime, timedelta\n",
    "\n",
    "# Input directory\n",
    "input_dir = \"Clipped2_Lake_Erie\"\n",
    "\n",
    "# Initialize lists to store weekly statistics\n",
    "weekly_stats = {\n",
    "    'startdate_extracted': [],\n",
    "    'startdate_standard': [],\n",
    "    'year': [],\n",
    "    'month': [],\n",
    "    'season': [],\n",
    "    'mean_ci': [],\n",
    "    'median_ci': [],\n",
    "    'std_ci': [],\n",
    "    'min_ci': [],\n",
    "    'max_ci': [],\n",
    "    'mean_dn': [],\n",
    "    'median_dn': [],\n",
    "    'std_dn': [],\n",
    "    'min_dn': [],\n",
    "    'max_dn': []\n",
    "}\n",
    "\n",
    "# Function to extract the date directly from the filename\n",
    "def extract_date_from_filename(filename):\n",
    "    # Example filename: L20162622016268.L3m_7D_CYAN_CI_cyano_CYAN_CONUS_300m_merged.tif\n",
    "    # Extract the first date: 2016262 (Year + DOY)\n",
    "    year_doy = filename.split('.')[0][1:8]  # Skip 'L' and take the next 7 characters\n",
    "    year = int(year_doy[:4])\n",
    "    doy = int(year_doy[4:])\n",
    "    \n",
    "    # Convert DOY to a standard date (e.g., 2016262 -> 2016-09-18)\n",
    "    date = datetime(year, 1, 1) + timedelta(days=doy - 1)\n",
    "    return year_doy, date\n",
    "\n",
    "# Iterate through all `.tif` files\n",
    "for file in sorted(glob(f\"{input_dir}/*.tif\")):\n",
    "    try:\n",
    "        # Extract the raw date string and converted standard date\n",
    "        startdate_extracted, startdate_standard = extract_date_from_filename(file.split('/')[-1])\n",
    "        year = startdate_standard.year\n",
    "        month = startdate_standard.month\n",
    "        season = (month % 12 // 3) + 1  # Winter=1, Spring=2, Summer=3, Fall=4\n",
    "\n",
    "        with rasterio.open(file) as src:\n",
    "            # Read the first band\n",
    "            data = src.read(1)\n",
    "\n",
    "            # Mask out invalid values (DN=254 and 255) and below-detection values (DN=0)\n",
    "            valid_mask = (data < 254) & (data != 0)\n",
    "            valid_data = data[valid_mask]  # Extract valid DN values\n",
    "\n",
    "            # Ensure there is valid data to process\n",
    "            if valid_data.size == 0:\n",
    "                print(f\"No valid data found in file: {file}. Skipping...\")\n",
    "                continue\n",
    "\n",
    "            # Compute spatial statistics for DN\n",
    "            mean_dn = np.mean(valid_data)\n",
    "            median_dn = np.median(valid_data)\n",
    "            std_dn = np.std(valid_data)\n",
    "            min_dn = np.min(valid_data)\n",
    "            max_dn = np.max(valid_data)\n",
    "\n",
    "            # Convert DN to CI_cyano using the formula\n",
    "            ci_cyano = 10 ** (valid_data * 0.011714 - 4.1870866)\n",
    "            mean_ci = np.mean(ci_cyano)\n",
    "            median_ci = np.median(ci_cyano)\n",
    "            std_ci = np.std(ci_cyano)\n",
    "            min_ci = np.min(ci_cyano)\n",
    "            max_ci = np.max(ci_cyano)\n",
    "\n",
    "            # Append results to the dictionary\n",
    "            weekly_stats['startdate_extracted'].append(startdate_extracted)  # Use raw date from filename\n",
    "            weekly_stats['startdate_standard'].append(startdate_standard.strftime('%Y-%m-%d'))  # Converted date\n",
    "            weekly_stats['year'].append(year)\n",
    "            weekly_stats['month'].append(month)\n",
    "            weekly_stats['season'].append(season)\n",
    "            weekly_stats['mean_ci'].append(mean_ci)\n",
    "            weekly_stats['median_ci'].append(median_ci)\n",
    "            weekly_stats['std_ci'].append(std_ci)\n",
    "            weekly_stats['min_ci'].append(min_ci)\n",
    "            weekly_stats['max_ci'].append(max_ci)\n",
    "            weekly_stats['mean_dn'].append(mean_dn)\n",
    "            weekly_stats['median_dn'].append(median_dn)\n",
    "            weekly_stats['std_dn'].append(std_dn)\n",
    "            weekly_stats['min_dn'].append(min_dn)\n",
    "            weekly_stats['max_dn'].append(max_dn)\n",
    "\n",
    "            # Print progress for large datasets\n",
    "            print(f\"Processed: {file}\")\n",
    "            print(f\"Extracted Date: {startdate_extracted}, Standard Date: {startdate_standard}\")\n",
    "            print(f\"Mean (DN): {mean_dn:.4f}, Median (DN): {median_dn:.4f}, Std (DN): {std_dn:.4f}\")\n",
    "            print(f\"Min (DN): {min_dn}, Max (DN): {max_dn}, Mean CI_cyano: {mean_ci:.4e}\")\n",
    "\n",
    "    except Exception as e:\n",
    "        print(f\"Error processing file {file}: {e}\")\n",
    "\n",
    "# Create a DataFrame to store the weekly results\n",
    "weekly_results = pd.DataFrame(weekly_stats)\n",
    "\n",
    "# Ensure the `date_extracted` column is treated as integers for correct sorting\n",
    "weekly_results['startdate_extracted'] = weekly_results['startdate_extracted'].astype(int)\n",
    "\n",
    "# Sort the results by the `date_extracted` column in ascending order\n",
    "weekly_results = weekly_results.sort_values(by='startdate_extracted', ascending=True)\n",
    "\n",
    "# Save weekly results to a CSV file\n",
    "weekly_results.to_csv(\"algal_weekly_statistics.csv\", index=False)\n",
    "print(\"Algal weekly statistics saved to `algal_weekly_statistics.csv`.\")"
   ]
  },
  {
   "cell_type": "markdown",
   "metadata": {},
   "source": [
    "### Monthly Statistics"
   ]
  },
  {
   "cell_type": "code",
   "execution_count": 35,
   "metadata": {},
   "outputs": [
    {
     "name": "stdout",
     "output_type": "stream",
     "text": [
      "Algal monthly statistics saved to `algal_monthly_by_year_statistics.csv`.\n"
     ]
    }
   ],
   "source": [
    "# Create monthly statistics by year\n",
    "monthly_stats = (\n",
    "    weekly_results\n",
    "    .groupby(['year', 'month'])\n",
    "    .agg({\n",
    "        'mean_ci': ['mean', 'std'],\n",
    "        'median_ci': 'mean',\n",
    "        'std_ci': 'mean',\n",
    "        'min_ci': 'min',\n",
    "        'max_ci': 'max',\n",
    "        'mean_dn': ['mean', 'std'],\n",
    "        'median_dn': 'mean',\n",
    "        'std_dn': 'mean',\n",
    "        'min_dn': 'min',\n",
    "        'max_dn': 'max',\n",
    "    })\n",
    "    .reset_index()\n",
    ")\n",
    "monthly_stats.columns = ['_'.join(col).strip('_') for col in monthly_stats.columns.values]\n",
    "monthly_stats.to_csv(\"algal_monthly_by_year_statistics.csv\", index=False)\n",
    "print(\"Algal monthly statistics saved to `algal_monthly_by_year_statistics.csv`.\")"
   ]
  },
  {
   "cell_type": "markdown",
   "metadata": {},
   "source": [
    "### Seasonal Statistics"
   ]
  },
  {
   "cell_type": "code",
   "execution_count": 36,
   "metadata": {},
   "outputs": [
    {
     "name": "stdout",
     "output_type": "stream",
     "text": [
      "Algal seasonal statistics saved to `algal_seasonal_by_year_statistics.csv`.\n"
     ]
    }
   ],
   "source": [
    "# Create seasonal statistics by year\n",
    "seasonal_stats = (\n",
    "    weekly_results\n",
    "    .groupby(['year', 'season'])\n",
    "    .agg({\n",
    "        'mean_ci': ['mean', 'std'],\n",
    "        'median_ci': 'mean',\n",
    "        'std_ci': 'mean',\n",
    "        'min_ci': 'min',\n",
    "        'max_ci': 'max',\n",
    "        'mean_dn': ['mean', 'std'],\n",
    "        'median_dn': 'mean',\n",
    "        'std_dn': 'mean',\n",
    "        'min_dn': 'min',\n",
    "        'max_dn': 'max',\n",
    "    })\n",
    "    .reset_index()\n",
    ")\n",
    "seasonal_stats.columns = ['_'.join(col).strip('_') for col in seasonal_stats.columns.values]\n",
    "seasonal_stats.to_csv(\"algal_seasonal_by_year_statistics.csv\", index=False)\n",
    "print(\"Algal seasonal statistics saved to `algal_seasonal_by_year_statistics.csv`.\")"
   ]
  },
  {
   "cell_type": "markdown",
   "metadata": {},
   "source": [
    "### Filter the 15-year timeframe (2009 - 2023)"
   ]
  },
  {
   "cell_type": "code",
   "execution_count": 37,
   "metadata": {},
   "outputs": [
    {
     "name": "stdout",
     "output_type": "stream",
     "text": [
      "Filtered weekly statistics saved to `filtered_algal_weekly_statistics.csv`.\n",
      "Filtered monthly statistics saved to `filtered_algal_monthly_statistics.csv`.\n",
      "Filtered seasonal statistics saved to `filtered_algal_seasonal_statistics.csv`.\n"
     ]
    }
   ],
   "source": [
    "# Weekly statistics\n",
    "filtered_weekly_results = weekly_results[(weekly_results['year'] >= 2009) & (weekly_results['year'] <= 2023)]\n",
    "filtered_weekly_results.to_csv(\"filtered_algal_weekly_statistics.csv\", index=False)\n",
    "print(\"Filtered weekly statistics saved to `filtered_algal_weekly_statistics.csv`.\")\n",
    "\n",
    "# Monthly statistics\n",
    "filtered_monthly_stats = monthly_stats[(monthly_stats['year'] >= 2009) & (monthly_stats['year'] <= 2023)]\n",
    "filtered_monthly_stats.to_csv(\"filtered_algal_monthly_statistics.csv\", index=False)\n",
    "print(\"Filtered monthly statistics saved to `filtered_algal_monthly_statistics.csv`.\")\n",
    "\n",
    "# Seasonal statistics\n",
    "filtered_seasonal_stats = seasonal_stats[(seasonal_stats['year'] >= 2009) & (seasonal_stats['year'] <= 2023)]\n",
    "filtered_seasonal_stats.to_csv(\"filtered_algal_seasonal_statistics.csv\", index=False)\n",
    "print(\"Filtered seasonal statistics saved to `filtered_algal_seasonal_statistics.csv`.\")"
   ]
  },
  {
   "cell_type": "code",
   "execution_count": null,
   "metadata": {},
   "outputs": [],
   "source": []
  }
 ],
 "metadata": {
  "kernelspec": {
   "display_name": "Python 3",
   "language": "python",
   "name": "python3"
  },
  "language_info": {
   "codemirror_mode": {
    "name": "ipython",
    "version": 3
   },
   "file_extension": ".py",
   "mimetype": "text/x-python",
   "name": "python",
   "nbconvert_exporter": "python",
   "pygments_lexer": "ipython3",
   "version": "3.7.3"
  }
 },
 "nbformat": 4,
 "nbformat_minor": 2
}
