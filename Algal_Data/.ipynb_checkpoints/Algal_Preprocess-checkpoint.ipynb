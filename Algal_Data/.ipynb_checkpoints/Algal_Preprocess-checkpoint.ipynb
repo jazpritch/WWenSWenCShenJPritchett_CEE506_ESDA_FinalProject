{
 "cells": [
  {
   "cell_type": "markdown",
   "metadata": {},
   "source": [
    "# CyAN Cyanobacteria Index (CI_cyano) - 1"
   ]
  },
  {
   "cell_type": "markdown",
   "metadata": {},
   "source": [
    "## Preprocessing"
   ]
  },
  {
   "cell_type": "code",
   "execution_count": 49,
   "metadata": {},
   "outputs": [
    {
     "data": {
      "text/plain": [
       "'/home/jovyan/work/FinalProject'"
      ]
     },
     "execution_count": 49,
     "metadata": {},
     "output_type": "execute_result"
    }
   ],
   "source": [
    "# Check directory\n",
    "import os\n",
    "os.getcwd()"
   ]
  },
  {
   "cell_type": "markdown",
   "metadata": {},
   "source": [
    "### Plot one pair of file"
   ]
  },
  {
   "cell_type": "code",
   "execution_count": null,
   "metadata": {},
   "outputs": [],
   "source": [
    "#pip install --upgrade matplotlib"
   ]
  },
  {
   "cell_type": "code",
   "execution_count": 114,
   "metadata": {},
   "outputs": [
    {
     "data": {
      "image/png": "[encoded data removed]",
      "text/plain": [
       "<Figure size 1008x576 with 4 Axes>"
      ]
     },
     "metadata": {
      "needs_background": "light"
     },
     "output_type": "display_data"
    }
   ],
   "source": [
    "import numpy as np\n",
    "import rasterio\n",
    "import matplotlib.pyplot as plt\n",
    "from matplotlib.gridspec import GridSpec\n",
    "from matplotlib.colors import ListedColormap\n",
    "\n",
    "# Define paths to your .tif files\n",
    "file_path1 = 'CYAN_Weekly_2008_2024/L20162622016268.L3m_7D_CYAN_CI_cyano_CYAN_CONUS_300m_6_2.tif'\n",
    "file_path2 = 'CYAN_Weekly_2008_2024/L20162622016268.L3m_7D_CYAN_CI_cyano_CYAN_CONUS_300m_7_2.tif'\n",
    "\n",
    "# Open the first .tif file\n",
    "with rasterio.open(file_path1) as src1:\n",
    "    image1 = src1.read(1)  # Read the first band\n",
    "\n",
    "# Open the second .tif file\n",
    "with rasterio.open(file_path2) as src2:\n",
    "    image2 = src2.read(1)  # Read the first band\n",
    "\n",
    "# Mask invalid values (DN=254 for land, DN=255 for no data)\n",
    "image1 = np.ma.masked_where(image1 >= 254, image1)  # Mask land and no-data pixels\n",
    "image2 = np.ma.masked_where(image2 >= 254, image2)\n",
    "\n",
    "# Customize the colormap: Use turbo and modify for DN=0\n",
    "original_cmap = plt.cm.turbo  # Load the turbo colormap\n",
    "colors = original_cmap(np.linspace(0, 1, 256))  # Get 256 colors from the colormap\n",
    "colors[0] = [0.83, 0.83, 0.83, 1.0]  # Light grey for DN=0 (RGB: 211, 211, 211)\n",
    "custom_cmap = ListedColormap(colors)\n",
    "\n",
    "# Create a figure with GridSpec for precise layout control\n",
    "fig = plt.figure(figsize=(14, 8))\n",
    "gs = GridSpec(1, 3, width_ratios=[1, 1, 0.05])  # Add space for vertical color bar\n",
    "\n",
    "# Add the first plot\n",
    "ax1 = fig.add_subplot(gs[0, 0])  # Left plot\n",
    "im1 = ax1.imshow(image1, cmap=custom_cmap, vmin=0, vmax=253)  # Use the custom colormap\n",
    "ax1.set_title('CyAN: 6_2', fontsize=14)\n",
    "ax1.axis('off')  # Turn off axes for cleaner display\n",
    "\n",
    "# Add the second plot\n",
    "ax2 = fig.add_subplot(gs[0, 1])  # Right plot\n",
    "im2 = ax2.imshow(image2, cmap=custom_cmap, vmin=0, vmax=253)  # Use the custom colormap\n",
    "ax2.set_title('CyAN: 7_2', fontsize=14)\n",
    "ax2.axis('off')  # Turn off axes for cleaner display\n",
    "\n",
    "# Add a shared vertical color bar to the right\n",
    "cbar_ax = fig.add_subplot(gs[0, 2])  # Right-most column\n",
    "cbar = fig.colorbar(im2, cax=cbar_ax, orientation='vertical')\n",
    "\n",
    "# Add ticks for DN values\n",
    "cbar.set_ticks([0, 50, 100, 150, 200, 253])\n",
    "cbar.ax.set_yticklabels([\n",
    "    '0', '50', '100', '150', '200', '253'  # DN values\n",
    "], fontsize=10, va='center')\n",
    "\n",
    "# Add CI_Cyano labels on the right side of the color bar\n",
    "cbar.ax.tick_params(axis='y', which='both', length=0)  # Remove default tick marks\n",
    "cbar.ax2 = cbar_ax.twinx()  # Add a second axis on the right\n",
    "cbar.ax2.set_yticks([0, 50, 100, 150, 200, 253])  # Match DN ticks\n",
    "cbar.ax2.set_yticklabels([\n",
    "    'Below Detect\\n(Grey)', \n",
    "    '0.0002504', \n",
    "    '0.0009645', \n",
    "    '0.0037155', \n",
    "    '0.0143124', \n",
    "    '0.05978'\n",
    "], fontsize=10, va='center')\n",
    "cbar.ax2.tick_params(axis='y', which='both', pad=40)\n",
    "\n",
    "\n",
    "# Add labels for the sides\n",
    "cbar.ax.set_ylabel('Digital Number (DN)', fontsize=12, labelpad=10)  # Left side label\n",
    "cbar.ax2.set_ylabel('CI_cyano', fontsize=12, labelpad=10)  # Right side label\n",
    "\n",
    "# Adjust layout to tighten spacing\n",
    "plt.subplots_adjust(wspace=0.3)  # Increase space between plots and color bar\n",
    "\n",
    "plt.show()"
   ]
  },
  {
   "cell_type": "markdown",
   "metadata": {},
   "source": [
    "### Merge 6_2 and 7_2 for each week"
   ]
  },
  {
   "cell_type": "code",
   "execution_count": null,
   "metadata": {},
   "outputs": [],
   "source": [
    "import os\n",
    "from glob import glob\n",
    "import rasterio\n",
    "from rasterio.merge import merge\n",
    "\n",
    "# Define input and output directories\n",
    "input_dir = \"CYAN_Weekly_2008_2024\"\n",
    "output_dir = \"Merged_CYAN_Weekly\"\n",
    "os.makedirs(output_dir, exist_ok=True)\n",
    "\n",
    "# Get a sorted list of all `.tif` files\n",
    "all_files = sorted(glob(os.path.join(input_dir, \"*.tif\")))\n",
    "\n",
    "# Debugging: Print total number of files found\n",
    "print(f\"Found {len(all_files)} .tif files in {input_dir}\")\n",
    "\n",
    "# Group files by week identifier (e.g., `L20161152016121`)\n",
    "file_groups = {}\n",
    "for file in all_files:\n",
    "    # Extract the week identifier (everything before \"_6_2\" or \"_7_2\")\n",
    "    week_id = \"_\".join(file.split(\"_\")[:-2])\n",
    "    if week_id not in file_groups:\n",
    "        file_groups[week_id] = []\n",
    "    file_groups[week_id].append(file)\n",
    "\n",
    "# Debugging: Print grouped file information\n",
    "print(f\"Identified {len(file_groups)} unique weeks\")\n",
    "\n",
    "# Process each group\n",
    "for week_id, files in file_groups.items():\n",
    "    # Ensure each group has exactly one `6_2` and one `7_2` file\n",
    "    files_6_2 = [f for f in files if \"6_2\" in f]\n",
    "    files_7_2 = [f for f in files if \"7_2\" in f]\n",
    "    \n",
    "    if len(files_6_2) == 1 and len(files_7_2) == 1:\n",
    "        # Open the datasets for the current week\n",
    "        try:\n",
    "            datasets = [rasterio.open(files_6_2[0]), rasterio.open(files_7_2[0])]\n",
    "\n",
    "            # Merge the datasets\n",
    "            merged_array, merged_transform = merge(datasets)\n",
    "\n",
    "            # Define the output file name\n",
    "            output_file_name = f\"{week_id}_merged.tif\"\n",
    "            output_file_path = os.path.join(output_dir, output_file_name)\n",
    "\n",
    "            # Ensure the parent directory of the output file exists\n",
    "            os.makedirs(os.path.dirname(output_file_path), exist_ok=True)\n",
    "\n",
    "            # Debugging: Check output file path\n",
    "            print(f\"Merging files for week {week_id}:\")\n",
    "            print(f\"  - {files_6_2[0]}\")\n",
    "            print(f\"  - {files_7_2[0]}\")\n",
    "            print(f\"Saving merged file to: {output_file_path}\")\n",
    "\n",
    "            # Save the merged raster\n",
    "            with rasterio.open(\n",
    "                output_file_path,\n",
    "                \"w\",\n",
    "                driver=\"GTiff\",\n",
    "                height=merged_array.shape[1],\n",
    "                width=merged_array.shape[2],\n",
    "                count=1,  # Assuming single-band rasters\n",
    "                dtype=merged_array.dtype,\n",
    "                crs=datasets[0].crs,\n",
    "                transform=merged_transform,\n",
    "            ) as dst:\n",
    "                dst.write(merged_array[0], 1)  # Write the first band of the merged array\n",
    "\n",
    "            print(f\"Merged file saved: {output_file_path}\")\n",
    "\n",
    "        except Exception as e:\n",
    "            print(f\"Error processing week {week_id}: {e}\")\n",
    "\n",
    "        finally:\n",
    "            # Ensure datasets are closed\n",
    "            for dataset in datasets:\n",
    "                dataset.close()\n",
    "\n",
    "    else:\n",
    "        print(f\"Skipping week {week_id}: Missing or duplicate files\")"
   ]
  },
  {
   "cell_type": "markdown",
   "metadata": {},
   "source": [
    "#### Check one merged map"
   ]
  },
  {
   "cell_type": "code",
   "execution_count": 104,
   "metadata": {},
   "outputs": [
    {
     "data": {
      "image/png": "[encoded data removed]",
      "text/plain": [
       "<Figure size 1296x648 with 3 Axes>"
      ]
     },
     "metadata": {
      "needs_background": "light"
     },
     "output_type": "display_data"
    }
   ],
   "source": [
    "import numpy as np\n",
    "import rasterio\n",
    "import matplotlib.pyplot as plt\n",
    "from matplotlib.gridspec import GridSpec\n",
    "from matplotlib.colors import ListedColormap\n",
    "\n",
    "# Path to the merged `.tif` file\n",
    "file_path = 'Merged_CYAN_Weekly/CYAN_Weekly_2008_2024/L20162622016268.L3m_7D_CYAN_CI_cyano_CYAN_CONUS_300m_merged.tif'\n",
    "\n",
    "# Open the merged file\n",
    "with rasterio.open(file_path) as src:\n",
    "    image = src.read(1)  # Read the first band\n",
    "\n",
    "# Mask invalid values (DN=254 for land, DN=255 for no data)\n",
    "image = np.ma.masked_where(image >= 254, image)  # Mask invalid values (e.g., no data)\n",
    "\n",
    "# Customize the colormap: Use turbo and modify for DN=0\n",
    "original_cmap = plt.cm.turbo  # Load the turbo colormap\n",
    "colors = original_cmap(np.linspace(0, 1, 256))  # Get 256 colors from the colormap\n",
    "colors[0] = [0.83, 0.83, 0.83, 1.0]  # Light grey for DN=0 (RGB: 211, 211, 211)\n",
    "custom_cmap = ListedColormap(colors)\n",
    "\n",
    "# Create a figure with GridSpec for precise layout control\n",
    "fig = plt.figure(figsize=(18, 9))\n",
    "gs = GridSpec(1, 2, width_ratios=[1, 0.05])  # Add space for vertical color bar\n",
    "\n",
    "# Add the plot for the merged raster\n",
    "ax = fig.add_subplot(gs[0, 0])  # Main plot area\n",
    "im = ax.imshow(image, cmap=custom_cmap, vmin=0, vmax=253)  # Use custom colormap\n",
    "ax.set_title('Merged Map', fontsize=14)\n",
    "ax.axis('off')  # Turn off axes for cleaner display\n",
    "\n",
    "# Add the color bar on the right\n",
    "cbar_ax = fig.add_subplot(gs[0, 1])  # Space for the color bar\n",
    "cbar = fig.colorbar(im, cax=cbar_ax, orientation='vertical')\n",
    "\n",
    "# Add ticks for DN values\n",
    "cbar.set_ticks([0, 50, 100, 150, 200, 253])  # Digital number ticks\n",
    "cbar.ax.set_yticklabels([\n",
    "    '0', '50', '100', '150', '200', '253'  # Digital number labels\n",
    "], fontsize=10, va='center')\n",
    "\n",
    "# Add labels for the right side of the color bar\n",
    "cbar.ax.tick_params(axis='y', which='both', length=0)  # Remove default tick marks\n",
    "cbar.ax2 = cbar_ax.twinx()  # Add a secondary y-axis on the right for CI_cyano values\n",
    "cbar.ax2.set_yticks([0, 50, 100, 150, 200, 253])  # Match DN ticks\n",
    "cbar.ax2.set_yticklabels([\n",
    "    'Below Detect\\n(Grey)', \n",
    "    '0.0002504', \n",
    "    '0.0009645', \n",
    "    '0.0037155', \n",
    "    '0.0143124', \n",
    "    '0.05978'\n",
    "], fontsize=10, va='center')\n",
    "cbar.ax2.tick_params(axis='y', which='both', pad=40)\n",
    "\n",
    "# Add side labels for the color bar\n",
    "cbar.ax.set_ylabel('Digital Number (DN)', fontsize=12, labelpad=10)  # Left side label\n",
    "cbar.ax2.set_ylabel('CI_cyano', fontsize=12, labelpad=10)  # Right side label\n",
    "\n",
    "# Adjust layout to tighten spacing\n",
    "plt.subplots_adjust(wspace=0.05)  # Adjust spacing between the plot and color bar\n",
    "\n",
    "plt.show()"
   ]
  },
  {
   "cell_type": "markdown",
   "metadata": {},
   "source": [
    "### Create CyAN metadata"
   ]
  },
  {
   "cell_type": "code",
   "execution_count": 159,
   "metadata": {},
   "outputs": [],
   "source": [
    "import os\n",
    "import pandas as pd\n",
    "from datetime import datetime\n",
    "\n",
    "# Define the directory containing the files\n",
    "base_dir = \"Merged_CYAN_Weekly/CYAN_Weekly_2008_2024\"\n",
    "files = [f for f in os.listdir(base_dir) if f.endswith('.tif')]\n",
    "\n",
    "metadata = []\n",
    "for file in files:\n",
    "    # Split the filename to extract parts\n",
    "    # Example: L20161152016121.L3m_7D_CYAN_CI_cyano_CYAN_CONUS_300m_6_2.tif\n",
    "    parts = file.split('.')\n",
    "    main_part = parts[0]  # \"L20161152016121\"\n",
    "    #region = parts[-2].split('_')[-2] + \"_\" + parts[-2].split('_')[-1]  # Extract \"6_2\" or \"7_2\"\n",
    "    \n",
    "    # Extract start and end dates (YYYYDDD format)\n",
    "    start_year = int(main_part[1:5])  # Extract year: \"2016\"\n",
    "    start_julian_day = int(main_part[5:8])  # Extract Julian day: \"115\"\n",
    "    end_year = int(main_part[8:12])  # Extract year: \"2016\"\n",
    "    end_julian_day = int(main_part[12:15])  # Extract Julian day: \"121\"\n",
    "    \n",
    "    # Convert Julian days to standard dates\n",
    "    start_date = datetime.strptime(f\"{start_year}{start_julian_day:03d}\", \"%Y%j\")\n",
    "    end_date = datetime.strptime(f\"{end_year}{end_julian_day:03d}\", \"%Y%j\")\n",
    "    \n",
    "    # Append the metadata for this file\n",
    "    metadata.append({\n",
    "        'filename': file,\n",
    "        'start_date': start_date,\n",
    "        'end_date': end_date\n",
    "    })\n",
    "\n",
    "# Create a DataFrame to store the metadata\n",
    "df = pd.DataFrame(metadata)\n",
    "\n",
    "# Save the metadata to a CSV file\n",
    "df.to_csv(\"cyan_metadata.csv\", index=False)"
   ]
  },
  {
   "cell_type": "code",
   "execution_count": 62,
   "metadata": {},
   "outputs": [
    {
     "name": "stdout",
     "output_type": "stream",
     "text": [
      "end_date      0\n",
      "filename      0\n",
      "start_date    0\n",
      "dtype: int64\n",
      "Missing files: set()\n"
     ]
    }
   ],
   "source": [
    "# Verify Metadata\n",
    "import pandas as pd\n",
    "\n",
    "# Load the metadata\n",
    "metadata = pd.read_csv(\"cyan_metadata.csv\")\n",
    "\n",
    "# Check for missing values\n",
    "print(metadata.isnull().sum())\n",
    "\n",
    "# Verify if all files in metadata exist in the directory\n",
    "import os\n",
    "data_dir = \"Merged_CYAN_Weekly/CYAN_Weekly_2008_2024\"\n",
    "all_files = set(os.listdir(data_dir))\n",
    "metadata_files = set(metadata['filename'])\n",
    "\n",
    "missing_files = metadata_files - all_files\n",
    "print(f\"Missing files: {missing_files}\")"
   ]
  },
  {
   "cell_type": "markdown",
   "metadata": {},
   "source": [
    "### Clip CyAN data to Lake Erie boundary"
   ]
  },
  {
   "cell_type": "code",
   "execution_count": 85,
   "metadata": {},
   "outputs": [
    {
     "name": "stdout",
     "output_type": "stream",
     "text": [
      "Found 'Lake Erie' in column: name\n",
      "Found 'Lake Erie' in column: label\n",
      "Found 'Lake Huron' in column: name\n",
      "Found 'Lake Huron' in column: label\n"
     ]
    }
   ],
   "source": [
    "# Lake boundary\n",
    "import geopandas as gpd\n",
    "\n",
    "# Path to your shapefile\n",
    "shapefile_path = \"Lakes_Boundary\"\n",
    "\n",
    "# Read the shapefile\n",
    "gdf = gpd.read_file(shapefile_path)\n",
    "\n",
    "# Search for \"Lake Erie\" across all columns\n",
    "for col in gdf.columns:\n",
    "    # Skip non-string columns\n",
    "    if gdf[col].dtype == 'object' or gdf[col].dtype.name == 'category':\n",
    "        # Ensure column is not geometry and check for \"Lake Erie\"\n",
    "        if gdf[col].dropna().str.contains(\"Lake Erie\", case=False).any():\n",
    "            print(f\"Found 'Lake Erie' in column: {col}\")\n",
    "\n",
    "for col in gdf.columns:\n",
    "    # Skip non-string columns\n",
    "    if gdf[col].dtype == 'object' or gdf[col].dtype.name == 'category':\n",
    "        # Ensure column is not geometry and check for \"Lake Erie\"\n",
    "        if gdf[col].dropna().str.contains(\"Lake Huron\", case=False).any():\n",
    "            print(f\"Found 'Lake Huron' in column: {col}\")"
   ]
  },
  {
   "cell_type": "code",
   "execution_count": 125,
   "metadata": {},
   "outputs": [
    {
     "name": "stdout",
     "output_type": "stream",
     "text": [
      "CRS of lake boundary shp: {'init': 'epsg:4326'}\n",
      "Found 668 merged files to clip.\n",
      "CRS of CyAN tif: PROJCS[\"unnamed\",GEOGCS[\"NAD83\",DATUM[\"North_American_Datum_1983\",SPHEROID[\"GRS 1980\",6378137,298.2572221010042,AUTHORITY[\"EPSG\",\"7019\"]],AUTHORITY[\"EPSG\",\"6269\"]],PRIMEM[\"Greenwich\",0],UNIT[\"degree\",0.0174532925199433],AUTHORITY[\"EPSG\",\"4269\"]],PROJECTION[\"Albers_Conic_Equal_Area\"],PARAMETER[\"standard_parallel_1\",29.5],PARAMETER[\"standard_parallel_2\",45.5],PARAMETER[\"latitude_of_center\",23],PARAMETER[\"longitude_of_center\",-96],PARAMETER[\"false_easting\",0],PARAMETER[\"false_northing\",0],UNIT[\"metre\",1,AUTHORITY[\"EPSG\",\"9001\"]]]\n"
     ]
    }
   ],
   "source": [
    "# Check the Coordinate Reference System (CRS)\n",
    "lake_shapefile = \"Lakes_Boundary/ne_10m_lakes.shp\"\n",
    "lakes = gpd.read_file(lake_shapefile)\n",
    "print(f\"CRS of lake boundary shp: {lakes.crs}\")\n",
    "\n",
    "merged_files = sorted(glob(os.path.join(merged_dir, \"*.tif\")))\n",
    "print(f\"Found {len(merged_files)} merged files to clip.\")\n",
    "with rasterio.open(merged_files[0]) as src:\n",
    "    print(f\"CRS of CyAN tif: {src.crs}\")"
   ]
  },
  {
   "cell_type": "code",
   "execution_count": 126,
   "metadata": {},
   "outputs": [
    {
     "name": "stdout",
     "output_type": "stream",
     "text": [
      "Raster Bounds: BoundingBox(left=434402.9533101199, bottom=2114826.2670775685, right=1634402.95331012, top=2714826.2670775685)\n",
      "Lake Erie Bounds: [1031854.73739668 2121876.39607314 1385529.33948626 2356395.29398589]\n"
     ]
    }
   ],
   "source": [
    "# Check the bounding box of the raster\n",
    "with rasterio.open(merged_files[0]) as src:\n",
    "    raster_bounds = src.bounds\n",
    "    print(f\"Raster Bounds: {raster_bounds}\")\n",
    "\n",
    "# Check the bounding box of Lake Erie\n",
    "lake_bounds = lake_erie.total_bounds  # xmin, ymin, xmax, ymax\n",
    "print(f\"Lake Erie Bounds: {lake_bounds}\")\n",
    "\n",
    "# Verify overlap\n",
    "from shapely.geometry import box\n",
    "\n",
    "raster_box = box(*raster_bounds)\n",
    "lake_box = box(*lake_bounds)\n",
    "\n",
    "if not raster_box.intersects(lake_box):\n",
    "    raise ValueError(\"Lake Erie geometry does not overlap with the raster.\")"
   ]
  },
  {
   "cell_type": "code",
   "execution_count": null,
   "metadata": {},
   "outputs": [],
   "source": [
    "import os\n",
    "from glob import glob\n",
    "import rasterio\n",
    "from rasterio.mask import mask\n",
    "import geopandas as gpd\n",
    "from shapely.geometry import box\n",
    "\n",
    "# Define paths\n",
    "lake_shapefile = \"Lakes_Boundary/ne_10m_lakes.shp\"\n",
    "merged_dir = \"Merged_CYAN_Weekly/CYAN_Weekly_2008_2024\"\n",
    "output_dir = \"Algal_Data/Clipped2_Lake_Erie\"\n",
    "os.makedirs(output_dir, exist_ok=True)\n",
    "\n",
    "# Load the Lake Erie boundary from the shapefile\n",
    "lakes = gpd.read_file(lake_shapefile)\n",
    "\n",
    "# Get the CRS of the first raster file\n",
    "with rasterio.open(glob(os.path.join(merged_dir, \"*.tif\"))[0]) as src:\n",
    "    raster_crs = src.crs\n",
    "\n",
    "# Reproject Lake Erie shapefile to match raster CRS\n",
    "lakes = lakes.to_crs(raster_crs)\n",
    "lake_erie = lakes[lakes['name'] == 'Lake Erie']\n",
    "\n",
    "if lake_erie.empty:\n",
    "    raise ValueError(\"Lake Erie not found in the shapefile. Check the 'name' attribute.\")\n",
    "\n",
    "# Process all merged `.tif` files\n",
    "merged_files = sorted(glob(os.path.join(merged_dir, \"*.tif\")))\n",
    "print(f\"Found {len(merged_files)} merged files to clip.\")\n",
    "\n",
    "for file in merged_files:\n",
    "    with rasterio.open(file) as src:\n",
    "        raster_bounds = src.bounds\n",
    "        lake_bounds = lake_erie.total_bounds\n",
    "\n",
    "        # Check if the raster and Lake Erie overlap\n",
    "        raster_box = box(*raster_bounds)\n",
    "        lake_box = box(*lake_bounds)\n",
    "\n",
    "        if not raster_box.intersects(lake_box):\n",
    "            print(f\"File {file} does not overlap with Lake Erie. Skipping...\")\n",
    "            continue\n",
    "\n",
    "        # Clip the raster using the Lake Erie geometry\n",
    "        try:\n",
    "            clipped_image, clipped_transform = mask(\n",
    "                src, \n",
    "                lake_erie.geometry, \n",
    "                crop=True\n",
    "            )\n",
    "\n",
    "            # Update metadata for the clipped raster\n",
    "            clipped_meta = src.meta.copy()\n",
    "            clipped_meta.update({\n",
    "                \"height\": clipped_image.shape[1],\n",
    "                \"width\": clipped_image.shape[2],\n",
    "                \"transform\": clipped_transform\n",
    "            })\n",
    "\n",
    "            # Define output file path\n",
    "            output_file = os.path.join(output_dir, os.path.basename(file))\n",
    "\n",
    "            # Save the clipped raster\n",
    "            with rasterio.open(output_file, \"w\", **clipped_meta) as dst:\n",
    "                dst.write(clipped_image)\n",
    "\n",
    "            print(f\"Clipped file saved: {output_file}\")\n",
    "\n",
    "        except Exception as e:\n",
    "            print(f\"Error clipping file {file}: {e}\")"
   ]
  },
  {
   "cell_type": "code",
   "execution_count": null,
   "metadata": {},
   "outputs": [],
   "source": [
    "# Reproject clipped CyAN raster data to lake boundary shp (EPSG:4326)\n",
    "import os\n",
    "from glob import glob\n",
    "import rasterio\n",
    "from rasterio.warp import calculate_default_transform, reproject, Resampling\n",
    "import geopandas as gpd\n",
    "\n",
    "# Paths\n",
    "clipped_dir = \"Algal_Data/Clipped2_Lake_Erie\"\n",
    "lake_shapefile = \"Lakes_Boundary/ne_10m_lakes.shp\"\n",
    "\n",
    "# Load the Lake Erie shapefile to get its CRS\n",
    "lakes = gpd.read_file(lake_shapefile)\n",
    "lake_erie = lakes[lakes['name'] == 'Lake Erie']\n",
    "lake_crs = lake_erie.crs\n",
    "\n",
    "# Get all .tif files in the directory\n",
    "clipped_files = sorted(glob(os.path.join(clipped_dir, \"*.tif\")))\n",
    "\n",
    "if len(clipped_files) > 0:\n",
    "    for tif_file in clipped_files:\n",
    "        # Process each file\n",
    "        with rasterio.open(tif_file) as src:\n",
    "            raster_crs = src.crs\n",
    "\n",
    "            # Check if CRS matches the Lake Erie shapefile CRS\n",
    "            if raster_crs != lake_crs:\n",
    "                print(f\"Reprojecting and overwriting: {tif_file}\")\n",
    "                dst_crs = lake_crs  # Target CRS\n",
    "\n",
    "                # Calculate the transform and metadata for the new CRS\n",
    "                transform, width, height = calculate_default_transform(\n",
    "                    src.crs, dst_crs, src.width, src.height, *src.bounds\n",
    "                )\n",
    "\n",
    "                # Update metadata\n",
    "                kwargs = src.meta.copy()\n",
    "                kwargs.update({\n",
    "                    'crs': dst_crs,\n",
    "                    'transform': transform,\n",
    "                    'width': width,\n",
    "                    'height': height\n",
    "                })\n",
    "\n",
    "                # Reproject and overwrite the raster\n",
    "                with rasterio.open(tif_file, 'w', **kwargs) as dst:\n",
    "                    for i in range(1, src.count + 1):  # Reproject each band\n",
    "                        reproject(\n",
    "                            source=rasterio.band(src, i),\n",
    "                            destination=rasterio.band(dst, i),\n",
    "                            src_transform=src.transform,\n",
    "                            src_crs=src.crs,\n",
    "                            dst_transform=transform,\n",
    "                            dst_crs=dst_crs,\n",
    "                            resampling=Resampling.nearest\n",
    "                        )\n",
    "\n",
    "                print(f\"Overwritten raster: {tif_file}\")\n",
    "            else:\n",
    "                print(f\"CRS matches for {tif_file}, no reprojection needed.\")\n",
    "else:\n",
    "    print(\"No .tif files found in the specified directory.\")"
   ]
  },
  {
   "cell_type": "code",
   "execution_count": 158,
   "metadata": {},
   "outputs": [
    {
     "name": "stdout",
     "output_type": "stream",
     "text": [
      "CRS of lake boundary shp: {'init': 'epsg:4326'}\n",
      "CRS of CyAN tif: EPSG:4326\n"
     ]
    }
   ],
   "source": [
    "# Check the reprojected Coordinate Reference System (CRS)\n",
    "print(f\"CRS of lake boundary shp: {lake_crs}\")\n",
    "\n",
    "with rasterio.open(clipped_files[0]) as srcc:\n",
    "    print(f\"CRS of CyAN tif: {srcc.crs}\")"
   ]
  },
  {
   "cell_type": "markdown",
   "metadata": {},
   "source": [
    "### Check one clipped map"
   ]
  },
  {
   "cell_type": "code",
   "execution_count": 26,
   "metadata": {},
   "outputs": [
    {
     "data": {
      "image/png": "[encoded data removed]",
      "text/plain": [
       "<Figure size 1296x648 with 3 Axes>"
      ]
     },
     "metadata": {
      "needs_background": "light"
     },
     "output_type": "display_data"
    }
   ],
   "source": [
    "import numpy as np\n",
    "import rasterio\n",
    "import matplotlib.pyplot as plt\n",
    "from matplotlib.gridspec import GridSpec\n",
    "from matplotlib.colors import ListedColormap\n",
    "import geopandas as gpd\n",
    "\n",
    "# Path to the merged `.tif` file\n",
    "file_path = 'Algal_Data/Clipped2_Lake_Erie/L20162622016268.L3m_7D_CYAN_CI_cyano_CYAN_CONUS_300m_merged.tif'\n",
    "\n",
    "# Path to the Lake Erie shapefile\n",
    "lake_shapefile = \"Algal_Data/Lakes_Boundary/ne_10m_lakes.shp\"\n",
    "\n",
    "# Open the merged file\n",
    "with rasterio.open(file_path) as src:\n",
    "    image = src.read(1)  # Read the first band\n",
    "    extent = src.bounds  # Get raster bounds for plotting\n",
    "    transform = src.transform  # Get transformation for aligning shapefile\n",
    "\n",
    "# Load the Lake Erie boundary shapefile\n",
    "lakes = gpd.read_file(lake_shapefile)\n",
    "\n",
    "# Reproject Lake Erie to match the CRS of the raster\n",
    "lake_erie = lakes[lakes['name'] == 'Lake Erie']\n",
    "#lake_erie = lake_erie.to_crs(crs=src.crs)\n",
    "\n",
    "# Customize the colormap: DN=0 is light grey, DN=255 is white\n",
    "original_cmap = plt.cm.turbo\n",
    "colors = original_cmap(np.linspace(0, 1, 256))\n",
    "colors[0] = [0.83, 0.83, 0.83, 1.0]  # Light grey for DN=0 (RGB: 211, 211, 211)\n",
    "colors[255] = [1.0, 1.0, 1.0, 1.0]   # White for DN=255 (RGB: 255, 255, 255)\n",
    "custom_cmap = ListedColormap(colors)\n",
    "\n",
    "# Create a figure with GridSpec for precise layout control\n",
    "fig = plt.figure(figsize=(18, 9))\n",
    "gs = GridSpec(1, 2, width_ratios=[1, 0.05])  # Add space for vertical color bar\n",
    "\n",
    "# Add the plot for the merged raster\n",
    "ax = fig.add_subplot(gs[0, 0])  # Main plot area\n",
    "im = ax.imshow(image, cmap=custom_cmap, extent=[extent.left, extent.right, extent.bottom, extent.top])\n",
    "ax.set_title('Lake Erie', fontsize=14)\n",
    "ax.axis('off')  # Turn off axes for cleaner display\n",
    "\n",
    "# Overlay Lake Erie boundary\n",
    "lake_erie.boundary.plot(ax=ax, edgecolor='black', linewidth=1.5, label='Lake Boundary')\n",
    "\n",
    "# Add the color bar on the right\n",
    "cbar_ax = fig.add_subplot(gs[0, 1])  # Space for the color bar\n",
    "cbar = fig.colorbar(im, cax=cbar_ax, orientation='vertical')\n",
    "\n",
    "# Add ticks for DN values\n",
    "cbar.set_ticks([0, 50, 100, 150, 200, 253])  # Digital number ticks\n",
    "cbar.ax.set_yticklabels([\n",
    "    '0', '50', '100', '150', '200', '253'  # Digital number labels\n",
    "], fontsize=10, va='center')\n",
    "\n",
    "# Add labels for the right side of the color bar\n",
    "cbar.ax.tick_params(axis='y', which='both', length=0)  # Remove default tick marks\n",
    "cbar.ax2 = cbar_ax.twinx()  # Add a secondary y-axis on the right for CI_cyano values\n",
    "cbar.ax2.set_yticks([50, 100, 150, 200, 253])  # Match DN ticks\n",
    "cbar.ax2.set_yticklabels([\n",
    "    '0.0002504', \n",
    "    '0.0009645', \n",
    "    '0.0037155', \n",
    "    '0.0143124', \n",
    "    '0.05978',\n",
    "], fontsize=10, va='center')\n",
    "cbar.ax2.tick_params(axis='y', which='both', pad=40)\n",
    "\n",
    "# Add side labels for the color bar\n",
    "cbar.ax.set_ylabel('Digital Number (DN)', fontsize=12, labelpad=10)  # Left side label\n",
    "cbar.ax2.set_ylabel('CI_cyano', fontsize=12, labelpad=10)  # Right side label\n",
    "\n",
    "# Adjust layout to tighten spacing\n",
    "plt.subplots_adjust(wspace=0.001)  # Adjust spacing between the plot and color bar\n",
    "\n",
    "plt.show()"
   ]
  },
  {
   "cell_type": "markdown",
   "metadata": {},
   "source": [
    "I was hoping we can make DN=255 (no data) to be white or DN=254 (land) to be another color, but I only got everything in grey."
   ]
  },
  {
   "cell_type": "code",
   "execution_count": null,
   "metadata": {},
   "outputs": [],
   "source": []
  },
  {
   "cell_type": "markdown",
   "metadata": {},
   "source": [
    "## Temporal Aggregation w/ Spatial Granularity"
   ]
  },
  {
   "cell_type": "markdown",
   "metadata": {},
   "source": [
    "### Organize Files by Month and Season"
   ]
  },
  {
   "cell_type": "code",
   "execution_count": null,
   "metadata": {},
   "outputs": [],
   "source": [
    "import os\n",
    "import rasterio\n",
    "import numpy as np\n",
    "from datetime import datetime\n",
    "from collections import defaultdict\n",
    "import pandas as pd\n",
    "\n",
    "# Directory containing weekly GeoTIFF files\n",
    "data_dir = \"Algal_Data/Clipped2_Lake_Erie\"\n",
    "tif_files = [f for f in os.listdir(data_dir) if f.endswith('.tif')]\n",
    "\n",
    "# Group files by month and season\n",
    "files_by_month = defaultdict(list)\n",
    "files_by_season = defaultdict(list)\n",
    "\n",
    "for file in tif_files:\n",
    "    # Extract characters from position 1 to 8 (assumes date is in this range)\n",
    "    year_day = file[1:8]  # Slicing string to extract characters at index 1 to 8\n",
    "    try:\n",
    "        # Convert year + day-of-year to date\n",
    "        file_date = datetime.strptime(year_day, \"%Y%j\")\n",
    "        \n",
    "        # Get Year-Month and assign to season\n",
    "        month = file_date.strftime(\"%Y-%m\")  # Year-Month\n",
    "        season = (\n",
    "            f\"{file_date.year}-Q1\" if file_date.month in [12, 1, 2] else # winter\n",
    "            f\"{file_date.year}-Q2\" if file_date.month in [3, 4, 5] else # spring\n",
    "            f\"{file_date.year}-Q3\" if file_date.month in [6, 7, 8] else # summer\n",
    "            f\"{file_date.year}-Q4\" # fall\n",
    "        )\n",
    "        \n",
    "        # Append file to the appropriate group\n",
    "        files_by_month[month].append(file)\n",
    "        files_by_season[season].append(file)\n",
    "    except ValueError:\n",
    "        print(f\"Skipping file {file}: unable to parse date\")\n",
    "\n",
    "print(f\"Files by month: {dict(files_by_month)}\")\n",
    "print(f\"Files by season: {dict(files_by_season)}\")"
   ]
  },
  {
   "cell_type": "markdown",
   "metadata": {},
   "source": [
    "### Compute Monthly or Seasonal Averages Incrementally"
   ]
  },
  {
   "cell_type": "code",
   "execution_count": 23,
   "metadata": {},
   "outputs": [],
   "source": [
    "import os\n",
    "import numpy as np\n",
    "import rasterio\n",
    "\n",
    "def compute_average(files, data_dir, output_filename):\n",
    "    \"\"\"\n",
    "    Compute the average of multiple GeoTIFF files, including only pixel values\n",
    "    between 1 and 253, convert them using the formula, and save the result as a new GeoTIFF.\n",
    "    \"\"\"\n",
    "    sum_array = None\n",
    "    count_array = None  # To track the count of valid pixels for averaging\n",
    "\n",
    "    for file in files:\n",
    "        with rasterio.open(os.path.join(data_dir, file)) as src:\n",
    "            data = src.read(1)  # Read the first band\n",
    "            transform = src.transform  # Get the transform\n",
    "            crs = src.crs  # Get the CRS\n",
    "\n",
    "            # Initialize arrays on the first iteration\n",
    "            if sum_array is None:\n",
    "                sum_array = np.zeros_like(data, dtype=np.float64)\n",
    "                count_array = np.zeros_like(data, dtype=np.int32)\n",
    "\n",
    "            # Mask for values between 1 and 253\n",
    "            valid_mask = (data >= 1) & (data <= 253) & ~np.isnan(data)\n",
    "\n",
    "            # Apply the formula only to valid data\n",
    "            converted_data = np.zeros_like(data, dtype=np.float64)\n",
    "            converted_data[valid_mask] = 10 ** (data[valid_mask] * 0.011714 - 4.1870866)\n",
    "\n",
    "            # Accumulate converted data and counts for valid pixels\n",
    "            sum_array[valid_mask] += converted_data[valid_mask]\n",
    "            count_array[valid_mask] += 1\n",
    "\n",
    "    # Compute the average, avoiding division by zero\n",
    "    avg_array = np.divide(sum_array, count_array, out=np.zeros_like(sum_array), where=count_array > 0)\n",
    "\n",
    "    # Save the averaged data as a GeoTIFF\n",
    "    with rasterio.open(\n",
    "        output_filename,\n",
    "        \"w\",\n",
    "        driver=\"GTiff\",\n",
    "        height=avg_array.shape[0],\n",
    "        width=avg_array.shape[1],\n",
    "        count=1,\n",
    "        dtype=np.float32,\n",
    "        crs=crs,\n",
    "        transform=transform,\n",
    "    ) as dst:\n",
    "        dst.write(avg_array.astype(np.float32), 1)\n",
    "\n",
    "# Example usage\n",
    "# Assuming `files_by_month` and `files_by_season` are dictionaries grouping files by time period\n",
    "\n",
    "# Process monthly averages\n",
    "for month, files in files_by_month.items():\n",
    "    output_file = f\"monthly_avg_{month}.tif\"\n",
    "    compute_average(files, data_dir, output_file)\n",
    "\n",
    "# Process seasonal averages\n",
    "for season, files in files_by_season.items():\n",
    "    output_file = f\"seasonal_avg_{season}.tif\"\n",
    "    compute_average(files, data_dir, output_file)"
   ]
  },
  {
   "cell_type": "code",
   "execution_count": null,
   "metadata": {},
   "outputs": [],
   "source": []
  },
  {
   "cell_type": "code",
   "execution_count": 16,
   "metadata": {},
   "outputs": [],
   "source": [
    "ci_raster = rasterio.open(\"Algal_Data/algal_seasonal_spatial/seasonal_avg_2008-Q3.tif\")\n",
    "ci_data = ci_raster.read(1)\n",
    "rows, cols = np.meshgrid(np.arange(ci_data.shape[0]), np.arange(ci_data.shape[1]), indexing='ij')\n",
    "x_coords, y_coords = rasterio.transform.xy(ci_raster.transform, rows, cols)"
   ]
  },
  {
   "cell_type": "code",
   "execution_count": 19,
   "metadata": {},
   "outputs": [
    {
     "name": "stdout",
     "output_type": "stream",
     "text": [
      "           x          y   CI\n",
      "0 -83.512325  43.571225  0.0\n",
      "1 -83.509072  43.571225  0.0\n",
      "2 -83.505820  43.571225  0.0\n",
      "3 -83.502567  43.571225  0.0\n",
      "4 -83.499315  43.571225  0.0\n"
     ]
    }
   ],
   "source": [
    "import pandas as pd\n",
    "\n",
    "ci_flat = ci_data.flatten()\n",
    "x_flat = np.array(x_coords).flatten()\n",
    "y_flat = np.array(y_coords).flatten()\n",
    "data = pd.DataFrame({\n",
    "    'x': x_flat,\n",
    "    'y': y_flat,\n",
    "    'CI': ci_flat\n",
    "})\n",
    "\n",
    "print(data.head())"
   ]
  },
  {
   "cell_type": "code",
   "execution_count": null,
   "metadata": {},
   "outputs": [],
   "source": []
  }
 ],
 "metadata": {
  "kernelspec": {
   "display_name": "Python 3",
   "language": "python",
   "name": "python3"
  },
  "language_info": {
   "codemirror_mode": {
    "name": "ipython",
    "version": 3
   },
   "file_extension": ".py",
   "mimetype": "text/x-python",
   "name": "python",
   "nbconvert_exporter": "python",
   "pygments_lexer": "ipython3",
   "version": "3.7.3"
  }
 },
 "nbformat": 4,
 "nbformat_minor": 2
}
