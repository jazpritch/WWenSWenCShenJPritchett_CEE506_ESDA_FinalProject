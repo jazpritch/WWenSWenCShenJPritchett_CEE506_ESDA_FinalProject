{
 "cells": [
  {
   "cell_type": "code",
   "execution_count": 10,
   "metadata": {},
   "outputs": [
    {
     "name": "stdout",
     "output_type": "stream",
     "text": [
      "No .tif files found in the specified folder.\n"
     ]
    }
   ],
   "source": [
    "import rasterio\n",
    "import matplotlib.pyplot as plt\n",
    "from glob import glob\n",
    "import os\n",
    "\n",
    "# Define the folder path\n",
    "folder_path = 'FinalProject/CYAN_Weekly_20090101_20241107'\n",
    "\n",
    "# Get a list of all .tif files in the folder\n",
    "tif_files = glob(os.path.join(folder_path, '*.tif'))\n",
    "\n",
    "# Check if files are being detected\n",
    "if len(tif_files) == 0:\n",
    "    print(\"No .tif files found in the specified folder.\")\n",
    "else:\n",
    "    print(f\"Found {len(tif_files)} .tif files.\")\n",
    "\n",
    "# Loop through each file, open it, and display the first band\n",
    "for file_path in tif_files:\n",
    "    try:\n",
    "        with rasterio.open(file_path) as src:\n",
    "            image = src.read(1)  # Read the first band\n",
    "            plt.figure()\n",
    "            plt.imshow(image, cmap='gray')\n",
    "            plt.colorbar()\n",
    "            plt.title(f'TIFF Image: {os.path.basename(file_path)}')\n",
    "            plt.show()\n",
    "    except Exception as e:\n",
    "        print(f\"Could not open {file_path}: {e}\")"
   ]
  },
  {
   "cell_type": "code",
   "execution_count": 20,
   "metadata": {},
   "outputs": [
    {
     "name": "stdout",
     "output_type": "stream",
     "text": [
      "/home/jovyan/work/FinalProject\n"
     ]
    }
   ],
   "source": [
    "import os\n",
    "print(os.getcwd())"
   ]
  },
  {
   "cell_type": "code",
   "execution_count": 24,
   "metadata": {},
   "outputs": [
    {
     "name": "stdout",
     "output_type": "stream",
     "text": [
      "Collecting cmocean\n",
      "\u001b[?25l  Downloading https://files.pythonhosted.org/packages/48/02/d0f19b00b252fd972e3daec05be73aa811091528f21b90442a15d6a96d89/cmocean-2.0-py3-none-any.whl (223kB)\n",
      "\u001b[K     |████████████████████████████████| 225kB 24.3MB/s \n",
      "\u001b[?25hInstalling collected packages: cmocean\n",
      "Successfully installed cmocean-2.0\n",
      "Note: you may need to restart the kernel to use updated packages.\n"
     ]
    }
   ],
   "source": [
    "pip install cmocean"
   ]
  },
  {
   "cell_type": "code",
   "execution_count": 28,
   "metadata": {},
   "outputs": [
    {
     "data": {
      "image/png": "[encoded data removed]",
      "text/plain": [
       "<Figure size 432x288 with 2 Axes>"
      ]
     },
     "metadata": {
      "needs_background": "light"
     },
     "output_type": "display_data"
    }
   ],
   "source": [
    "import rasterio\n",
    "import matplotlib.pyplot as plt\n",
    "import cmocean\n",
    "\n",
    "# Define the path to your .tif file\n",
    "file_path = 'CYAN_Weekly_20090101_20241107/CYAN_Weekly/L20161152016121.L3m_7D_CYAN_CI_cyano_CYAN_CONUS_300m_6_2.tif'\n",
    "\n",
    "# Open the .tif file\n",
    "with rasterio.open(file_path) as src:\n",
    "    # Read the data\n",
    "    image = src.read(1)  # Reads the first band, adjust if multi-band data\n",
    "\n",
    "    # Display the image\n",
    "    plt.imshow(image,cmap=\"YlGnBu\")\n",
    "    plt.colorbar()\n",
    "    plt.title('TIFF Image')\n",
    "    plt.show()"
   ]
  },
  {
   "cell_type": "code",
   "execution_count": null,
   "metadata": {},
   "outputs": [],
   "source": [
    "import xarray as xr\n",
    "\n",
    "# Open the .nc file\n",
    "file_path = 'MODIS_CHL_8day/AQUA_MODIS.20120218_20120225.L3b.8D.CHL.x.nc'\n",
    "data = xr.open_dataset(file_path)\n",
    "\n",
    "# View a summary of the dataset\n",
    "print(data)\n",
    "\n",
    "# Access a specific variable (replace 'variable_name' with an actual variable name)\n",
    "print(data['variable_name'])\n",
    "\n",
    "# Plot a variable (if it's 2D or 3D)\n",
    "data['variable_name'].plot()"
   ]
  },
  {
   "cell_type": "code",
   "execution_count": 9,
   "metadata": {},
   "outputs": [
    {
     "name": "stdout",
     "output_type": "stream",
     "text": [
      "odict_keys([])\n",
      "odict_keys([])\n"
     ]
    }
   ],
   "source": [
    "from netCDF4 import Dataset\n",
    "\n",
    "# Open the file with netCDF4\n",
    "with Dataset(file_path, 'r') as nc_file:\n",
    "    print(nc_file.variables.keys())  # List of all variables\n",
    "    print(nc_file.dimensions.keys()) # List of all dimensions"
   ]
  },
  {
   "cell_type": "code",
   "execution_count": null,
   "metadata": {},
   "outputs": [],
   "source": [
    "!git add .\n",
    "!git commit -m \"Nov.13\"\n",
    "!git push origin main"
   ]
  },
  {
   "cell_type": "code",
   "execution_count": null,
   "metadata": {},
   "outputs": [],
   "source": []
  }
 ],
 "metadata": {
  "kernelspec": {
   "display_name": "Python 3",
   "language": "python",
   "name": "python3"
  },
  "language_info": {
   "codemirror_mode": {
    "name": "ipython",
    "version": 3
   },
   "file_extension": ".py",
   "mimetype": "text/x-python",
   "name": "python",
   "nbconvert_exporter": "python",
   "pygments_lexer": "ipython3",
   "version": "3.7.3"
  }
 },
 "nbformat": 4,
 "nbformat_minor": 2
}
