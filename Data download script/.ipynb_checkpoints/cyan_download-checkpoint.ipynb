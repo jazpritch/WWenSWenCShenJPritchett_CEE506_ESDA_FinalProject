{
 "cells": [
  {
   "cell_type": "code",
   "execution_count": null,
   "metadata": {},
   "outputs": [],
   "source": [
    "import os\n",
    "import requests\n",
    "\n",
    "# Function to download a file from a URL\n",
    "def download_file(url, destination):\n",
    "    try:\n",
    "        with requests.get(url, stream=True) as response:\n",
    "            response.raise_for_status()  # Will raise an HTTPError for bad responses (4xx, 5xx)\n",
    "            # Download file in chunks to prevent incomplete downloads for large files\n",
    "            with open(destination, 'wb') as file:\n",
    "                for chunk in response.iter_content(chunk_size=8192):\n",
    "                    file.write(chunk)\n",
    "        print(f\"Downloaded {url} to {destination}\")\n",
    "    except requests.exceptions.RequestException as e:\n",
    "        print(f\"Failed to download {url}: {e}\")\n",
    "\n",
    "# Define the folder where you want to save the files\n",
    "folder_path = \"CYAN_Weekly_20090101_20241107\"\n",
    "\n",
    "# Create the folder if it doesn't exist\n",
    "if not os.path.exists(folder_path):\n",
    "    os.makedirs(folder_path)\n",
    "\n",
    "# Read the file containing URLs\n",
    "file_path = 'cyan_tiff.txt'\n",
    "\n",
    "try:\n",
    "    # Open the file and read the URLs\n",
    "    with open(file_path, 'r') as file:\n",
    "        urls = file.readlines()\n",
    "\n",
    "    # Iterate through each URL and download the content\n",
    "    for i, url in enumerate(urls, start=1):\n",
    "        url = url.strip()  # Remove any extra whitespace or newlines\n",
    "        if url:\n",
    "            # Ensure the URL is valid\n",
    "            if url.startswith(\"http\"):\n",
    "                # Extract the filename from the URL\n",
    "                filename = os.path.basename(url)\n",
    "                # Join the folder path with the filename to save the file in the specified folder\n",
    "                destination = os.path.join(folder_path, filename)\n",
    "                download_file(url, destination)\n",
    "            else:\n",
    "                print(f\"Skipping invalid URL: {url}\")\n",
    "        else:\n",
    "            print(f\"Skipping empty URL at line {i}\")\n",
    "\n",
    "except FileNotFoundError:\n",
    "    print(f\"Error: The file {file_path} was not found.\")"
   ]
  },
  {
   "cell_type": "code",
   "execution_count": 2,
   "metadata": {},
   "outputs": [
    {
     "name": "stdout",
     "output_type": "stream",
     "text": [
      "/home/jovyan/work/FinalProject/Data download script\n"
     ]
    }
   ],
   "source": [
    "import os\n",
    "print(os.getcwd())"
   ]
  },
  {
   "cell_type": "code",
   "execution_count": null,
   "metadata": {},
   "outputs": [],
   "source": [
    "/Users/wendywen/Desktop/ESDA"
   ]
  },
  {
   "cell_type": "code",
   "execution_count": 4,
   "metadata": {},
   "outputs": [
    {
     "data": {
      "text/plain": [
       "'/home/jovyan/work/FinalProject/Data download script/CYAN_Weekly_20090101_20241107.zip'"
      ]
     },
     "execution_count": 4,
     "metadata": {},
     "output_type": "execute_result"
    }
   ],
   "source": [
    "import shutil\n",
    "\n",
    "# Path to your folder\n",
    "folder_path = 'CYAN_Weekly_20090101_20241107'\n",
    "\n",
    "# Compress the folder and save the zip in the current directory\n",
    "shutil.make_archive('CYAN_Weekly_20090101_20241107', 'zip', folder_path)"
   ]
  },
  {
   "cell_type": "code",
   "execution_count": null,
   "metadata": {},
   "outputs": [],
   "source": []
  }
 ],
 "metadata": {
  "kernelspec": {
   "display_name": "Python 3",
   "language": "python",
   "name": "python3"
  },
  "language_info": {
   "codemirror_mode": {
    "name": "ipython",
    "version": 3
   },
   "file_extension": ".py",
   "mimetype": "text/x-python",
   "name": "python",
   "nbconvert_exporter": "python",
   "pygments_lexer": "ipython3",
   "version": "3.7.3"
  }
 },
 "nbformat": 4,
 "nbformat_minor": 2
}
